{
 "cells": [
  {
   "cell_type": "code",
   "execution_count": 1,
   "metadata": {
    "collapsed": true
   },
   "outputs": [],
   "source": [
    "import numpy as np\n",
    "import pandas as pd\n",
    "import seaborn as sns\n",
    "from sklearn.model_selection import train_test_split\n",
    "from sklearn import linear_model\n",
    "from sklearn.ensemble import RandomForestRegressor\n",
    "from sklearn.ensemble import GradientBoostingRegressor\n",
    "from scipy.stats import skew\n",
    "import matplotlib.pyplot as plt\n",
    "%matplotlib inline"
   ]
  },
  {
   "cell_type": "code",
   "execution_count": 149,
   "metadata": {
    "collapsed": true
   },
   "outputs": [],
   "source": [
    "train_df = pd.read_csv('train.csv')\n",
    "test_df = pd.read_csv('test.csv')\n",
    "\n",
    "#Pass all of the data, both test and train, into our cleaning function.\n",
    "#Leave Id and SalePrice out because we don't want our model to predict from these.\n",
    "all_df = pd.concat((train_df.drop(['Id', 'SalePrice'], axis=1),\n",
    "                      test_df.drop('Id', axis=1)))"
   ]
  },
  {
   "cell_type": "code",
   "execution_count": 150,
   "metadata": {
    "collapsed": true
   },
   "outputs": [],
   "source": [
    "def clean_data(df):\n",
    "    numeric_vars = df.select_dtypes(['float64', 'int64']).columns\n",
    "    data_numeric = df[numeric_vars]\n",
    "    \n",
    "    skewed_feats = data_numeric.apply(lambda x: skew(x.dropna())) #compute skewness\n",
    "    skewed_feats = skewed_feats[skewed_feats > 0.75]\n",
    "    skewed_feats = skewed_feats.index\n",
    "    \n",
    "    data_numeric[skewed_feats] = np.log1p(data_numeric[skewed_feats])\n",
    "    \n",
    "    data_cat = df.select_dtypes(['object'])\n",
    "    \n",
    "    result_df = pd.concat([pd.get_dummies(data_cat),data_numeric], axis=1)\n",
    "    return result_df.fillna(result_df.mean())"
   ]
  },
  {
   "cell_type": "code",
   "execution_count": 151,
   "metadata": {},
   "outputs": [],
   "source": [
    "data_numeric = all_df[all_df.select_dtypes(['float64', 'int64']).columns]\n",
    "skewed_feats = data_numeric.apply(lambda x: skew(x.dropna())) #compute skewness\n",
    "skewed_feats = skewed_feats[skewed_feats > 0.75]\n",
    "skewed_feats = skewed_feats.index"
   ]
  },
  {
   "cell_type": "code",
   "execution_count": 152,
   "metadata": {},
   "outputs": [
    {
     "name": "stderr",
     "output_type": "stream",
     "text": [
      "/Users/tchen/anaconda/lib/python3.6/site-packages/pandas/core/frame.py:2450: SettingWithCopyWarning: \n",
      "A value is trying to be set on a copy of a slice from a DataFrame.\n",
      "Try using .loc[row_indexer,col_indexer] = value instead\n",
      "\n",
      "See the caveats in the documentation: http://pandas.pydata.org/pandas-docs/stable/indexing.html#indexing-view-versus-copy\n",
      "  self[k1] = value[k2]\n"
     ]
    }
   ],
   "source": [
    "data_all = clean_data(all_df)"
   ]
  },
  {
   "cell_type": "code",
   "execution_count": 153,
   "metadata": {
    "collapsed": true
   },
   "outputs": [],
   "source": [
    "data_train_all = data_all[:data_train.shape[0]]\n",
    "data_test_all = data_all[data_train.shape[0]:]"
   ]
  },
  {
   "cell_type": "code",
   "execution_count": 154,
   "metadata": {},
   "outputs": [],
   "source": [
    "X = data_train_all.values\n",
    "y = np.log1p(train_df['SalePrice'].values)"
   ]
  },
  {
   "cell_type": "code",
   "execution_count": 155,
   "metadata": {
    "collapsed": true
   },
   "outputs": [],
   "source": [
    "def get_mse(X, y, a):\n",
    "    x_train, x_validation, y_train, y_validation = train_test_split(X, y, test_size = 0.33, random_state = 37)\n",
    "\n",
    "\n",
    "    regr = linear_model.Ridge(alpha = a, normalize=True)\n",
    "    regr.fit(x_train, y_train)\n",
    "    return np.sqrt(np.mean((np.log(regr.predict(x_validation) )- np.log(y_validation))** 2))"
   ]
  },
  {
   "cell_type": "code",
   "execution_count": 156,
   "metadata": {},
   "outputs": [
    {
     "data": {
      "text/plain": [
       "<matplotlib.axes._subplots.AxesSubplot at 0x113e994a8>"
      ]
     },
     "execution_count": 156,
     "metadata": {},
     "output_type": "execute_result"
    },
    {
     "data": {
      "image/png": "[encoded data removed]",
      "text/plain": [
       "<matplotlib.figure.Figure at 0x11341fb70>"
      ]
     },
     "metadata": {},
     "output_type": "display_data"
    }
   ],
   "source": [
    "alpha_optimization_df = pd.DataFrame({'alpha': [0.1, 0.2, 0.3, 0.4, 0.5, 0.6, 0.7, 0.8, 0.9, 1.0, 1.5,2, 3, 4, 5, 10, 100]})\n",
    "alpha_optimization_df['mse'] = alpha_optimization_df['alpha'].apply(lambda a: get_mse(X, y, a))\n",
    "alpha_optimization_df.plot(x = 'alpha', y = 'mse', kind = 'scatter', xlim = [0, 2], ylim = [0.011, 0.015])"
   ]
  },
  {
   "cell_type": "code",
   "execution_count": 169,
   "metadata": {},
   "outputs": [
    {
     "name": "stdout",
     "output_type": "stream",
     "text": [
      "Intercept:  11.59148464\n",
      "Root Mean squared error: 0.012\n"
     ]
    }
   ],
   "source": [
    "x_train, x_validation, y_train, y_validation = train_test_split(X, y, test_size = 0.33, random_state = 37)\n",
    "\n",
    "#regr = linear_model.LinearRegression()\n",
    "regr = linear_model.Ridge(alpha = 0.7, normalize=True)\n",
    "regr.fit(x_train, y_train)\n",
    "#print('Coefficients: ', regr.coef_)\n",
    "print('Intercept: ', regr.intercept_)\n",
    "print(\"Root Mean squared error: %.3f\" % np.sqrt(np.mean((np.log(regr.predict(x_validation) )- np.log(y_validation))** 2)))"
   ]
  },
  {
   "cell_type": "code",
   "execution_count": 181,
   "metadata": {},
   "outputs": [],
   "source": [
    "model_lasso = linear_model.LassoCV().fit(x_train, y_train)\n",
    "X_test = data_test_all.values\n",
    "lasso_preds = np.expm1(model_lasso.predict(X_test))\n",
    "solution = pd.DataFrame({\"id\":data_test.Id, \"SalePrice\":lasso_preds})\n",
    "solution.to_csv(\"lasso_sol.csv\", index = False)"
   ]
  },
  {
   "cell_type": "code",
   "execution_count": 177,
   "metadata": {},
   "outputs": [],
   "source": [
    "preds = regr.predict(test)\n",
    "preds = np.expm1(preds)"
   ]
  },
  {
   "cell_type": "code",
   "execution_count": 178,
   "metadata": {
    "collapsed": true
   },
   "outputs": [],
   "source": [
    "solution = pd.DataFrame({\"id\":data_test.Id, \"SalePrice\":preds})\n",
    "solution.to_csv(\"ridge_sol.csv\", index = False)"
   ]
  },
  {
   "cell_type": "code",
   "execution_count": 179,
   "metadata": {},
   "outputs": [
    {
     "data": {
      "text/html": [
       "<div>\n",
       "<style>\n",
       "    .dataframe thead tr:only-child th {\n",
       "        text-align: right;\n",
       "    }\n",
       "\n",
       "    .dataframe thead th {\n",
       "        text-align: left;\n",
       "    }\n",
       "\n",
       "    .dataframe tbody tr th {\n",
       "        vertical-align: top;\n",
       "    }\n",
       "</style>\n",
       "<table border=\"1\" class=\"dataframe\">\n",
       "  <thead>\n",
       "    <tr style=\"text-align: right;\">\n",
       "      <th></th>\n",
       "      <th>SalePrice</th>\n",
       "      <th>id</th>\n",
       "    </tr>\n",
       "  </thead>\n",
       "  <tbody>\n",
       "    <tr>\n",
       "      <th>0</th>\n",
       "      <td>126961.098305</td>\n",
       "      <td>1461</td>\n",
       "    </tr>\n",
       "    <tr>\n",
       "      <th>1</th>\n",
       "      <td>157139.908028</td>\n",
       "      <td>1462</td>\n",
       "    </tr>\n",
       "    <tr>\n",
       "      <th>2</th>\n",
       "      <td>180197.685043</td>\n",
       "      <td>1463</td>\n",
       "    </tr>\n",
       "    <tr>\n",
       "      <th>3</th>\n",
       "      <td>199090.872393</td>\n",
       "      <td>1464</td>\n",
       "    </tr>\n",
       "    <tr>\n",
       "      <th>4</th>\n",
       "      <td>193331.087621</td>\n",
       "      <td>1465</td>\n",
       "    </tr>\n",
       "  </tbody>\n",
       "</table>\n",
       "</div>"
      ],
      "text/plain": [
       "       SalePrice    id\n",
       "0  126961.098305  1461\n",
       "1  157139.908028  1462\n",
       "2  180197.685043  1463\n",
       "3  199090.872393  1464\n",
       "4  193331.087621  1465"
      ]
     },
     "execution_count": 179,
     "metadata": {},
     "output_type": "execute_result"
    }
   ],
   "source": [
    "solution.head()"
   ]
  },
  {
   "cell_type": "code",
   "execution_count": 185,
   "metadata": {},
   "outputs": [],
   "source": [
    "X = data_train_all.values\n",
    "y = train_df['SalePrice'].values"
   ]
  },
  {
   "cell_type": "code",
   "execution_count": 186,
   "metadata": {},
   "outputs": [
    {
     "name": "stdout",
     "output_type": "stream",
     "text": [
      "Coefficients:  [ -1.98886579e-01   2.68388844e-02   3.94996893e-02   1.51520025e-02\n",
      "  -1.82597151e-02  -4.68841000e-02   4.68841000e-02  -4.56582626e-03\n",
      "   2.21349375e-02   1.42705701e-03   1.61648708e-02   2.04969085e-04\n",
      "  -3.39504653e-03  -1.06289397e-02   1.35239073e-02  -1.52035801e-03\n",
      "  -4.00777339e-04   7.25225908e-02  -7.25225908e-02   7.11803932e-03\n",
      "   2.64408466e-02  -2.95686589e-02  -2.38226306e-02  -8.84687815e-03\n",
      "  -1.24986919e-02   1.72571411e-02  -1.80526786e-02  -1.23839107e-02\n",
      "   0.00000000e+00  -1.34236056e-02   5.01752311e-03   3.32289043e-02\n",
      "  -4.02670367e-03   8.05015016e-02  -3.93707755e-02  -2.14055767e-02\n",
      "  -3.81276726e-02  -7.32192576e-02  -2.26350422e-02  -1.12011053e-02\n",
      "   1.08902090e-02  -3.09458799e-03   7.52038317e-02   4.88643154e-02\n",
      "  -2.17264483e-02  -3.84712257e-03  -2.03272162e-02  -1.28750494e-03\n",
      "   3.13368127e-02   9.14393006e-02   2.01046749e-03   5.03684052e-02\n",
      "  -3.39861810e-02  -1.45233316e-02   1.99627500e-02  -5.57731704e-03\n",
      "   6.11443224e-03  -7.20935014e-02  -4.62231945e-03  -4.95266898e-02\n",
      "   1.43654180e-02  -8.29653728e-02   8.85132884e-03   2.99356542e-03\n",
      "   1.54627479e-01  -1.48227766e-03  -3.81630140e-02   0.00000000e+00\n",
      "  -1.44222921e-02   1.40033222e-02  -6.71503052e-03  -6.61163536e-03\n",
      "  -1.23557502e-02  -1.64064261e-02  -2.70589232e-04   6.63842535e-03\n",
      "  -8.81351433e-03   4.47108847e-02   9.94035692e-03   1.27131538e-02\n",
      "  -1.28723377e-02  -1.52406264e-02  -1.11868124e-03  -1.22369477e-02\n",
      "  -3.30659717e-02   1.38810222e-02   1.28799182e-02   4.57732400e-02\n",
      "   0.00000000e+00  -4.29413139e-02   7.20693265e-02   0.00000000e+00\n",
      "   0.00000000e+00  -2.11277321e-02   1.64428719e-02   1.38611074e-01\n",
      "  -1.90514185e-03  -2.82108086e-02  -1.50349739e-01   4.32194605e-02\n",
      "   0.00000000e+00   1.10588342e-02  -3.09000064e-03   5.14695973e-02\n",
      "   1.50141068e-03   4.94949901e-03   5.69916641e-02   2.11300689e-02\n",
      "   2.59680003e-03  -1.74148398e-02  -1.86396496e-02   4.64726056e-03\n",
      "   7.83826250e-03  -1.62312641e-02  -2.51052294e-02   0.00000000e+00\n",
      "   5.49446269e-03   1.01395700e-03  -1.16265262e-02  -8.09411807e-04\n",
      "  -3.84219081e-03  -9.88212938e-03  -1.09140153e-02   9.50543117e-03\n",
      "   2.85727276e-03   2.59278111e-03   1.00534834e-05  -2.88919340e-02\n",
      "   4.09836403e-03  -6.81921660e-03   1.71136311e-02   5.20072306e-02\n",
      "  -3.07153140e-02   1.23595862e-02  -1.74791919e-02   8.18064298e-02\n",
      "  -4.16039583e-02   2.28329718e-04  -9.21973144e-02   7.47124919e-03\n",
      "  -1.41879945e-02  -8.55960550e-03   1.39093853e-02  -2.22105834e-02\n",
      "   8.30234126e-02   2.79544015e-03   5.43118915e-02  -2.91765134e-02\n",
      "   8.29917251e-03  -1.79175256e-02  -7.86947951e-03   1.60290550e-02\n",
      "  -5.51788230e-02   7.48068208e-03  -4.08951846e-03   5.27572058e-02\n",
      "   8.79161821e-03  -1.28647213e-02   5.18533069e-03  -2.19774738e-03\n",
      "   2.09234324e-02  -1.25721500e-02  -2.38655363e-03  -1.33490397e-02\n",
      "   2.20690583e-02  -2.32054872e-02   2.80555628e-02  -2.88100988e-04\n",
      "   8.01168077e-03   5.26163843e-03   0.00000000e+00   4.19626847e-03\n",
      "   4.81360073e-02  -1.00301886e-01   1.63913706e-02  -2.22287270e-02\n",
      "   1.67123221e-02  -2.17834079e-02  -5.85290568e-03  -1.95950969e-02\n",
      "  -1.25405891e-02  -3.65854423e-02   3.65854423e-02  -7.06760291e-03\n",
      "   4.58691845e-03  -1.15616070e-02   4.16035357e-03   3.92322319e-03\n",
      "   6.87175339e-02  -1.81294394e-02   6.10358941e-03  -2.01210742e-02\n",
      "  -3.95994654e-02  -2.05943748e-01   9.07098623e-03  -1.40152683e-02\n",
      "  -3.76323828e-02  -1.22901866e-01   2.51972339e-02   6.67830269e-02\n",
      "  -1.21995452e-02   2.26587059e-02  -4.68142052e-02   1.15563214e-02\n",
      "  -4.89108040e-02   1.16465495e-02  -2.67871011e-02   2.29899288e-02\n",
      "  -4.13846988e-02  -5.54062677e-03   1.22441925e-02   6.39743640e-03\n",
      "  -5.82069978e-03   9.34361347e-02  -1.00532343e-02   2.99777132e-02\n",
      "   3.07699151e-02   1.97203061e-02  -1.22054753e-02  -7.04870075e-03\n",
      "  -2.56551519e-03   3.98538570e-02   2.45736926e-02  -2.48805505e-02\n",
      "  -2.96090352e-03   1.93578553e-02   1.76274532e-03   2.23592491e-02\n",
      "   0.00000000e+00   1.39186445e-02  -2.80423657e-02  -9.77529402e-03\n",
      "  -1.44210088e-02   1.30712370e-02  -5.91653738e-02  -1.24039168e-02\n",
      "   0.00000000e+00  -1.85135203e-02   1.00743806e-01   3.36900664e-02\n",
      "   1.89296868e-03  -5.84705905e-02  -4.31889718e-04   2.39949647e-02\n",
      "   5.53821922e-02  -1.28358290e-02  -4.18771437e-02  -2.13857920e-02\n",
      "   2.15596661e-02  -3.91685652e-02   9.68997787e-03   2.58115889e-02\n",
      "  -2.47206424e-03   2.73796778e-02   4.28558544e-02   2.31286874e-02\n",
      "   1.79079927e-02   2.99266371e-04   8.22045585e-04   2.09182893e-03\n",
      "   3.91457512e-03   8.12270335e-04   1.97148439e-03   1.26266103e-02\n",
      "   1.04604079e-01   2.61443666e-03   7.77776075e-04   1.15090771e-01\n",
      "   2.60577336e-02   1.22608779e-02   3.25151200e-02   2.55819320e-02\n",
      "   6.97789038e-03  -6.21589715e-02   9.62229891e-02   2.81601796e-02\n",
      "   1.52126223e-04   2.46991703e-02   9.62694277e-05   2.54717040e-03\n",
      "   3.96396217e-03  -6.47382602e-04   2.66271208e-03   7.09893896e-03\n",
      "   1.92829179e-03  -1.69871415e-03  -5.70841720e-04  -2.54505484e-03]\n",
      "Intercept:  11.59148464\n",
      "Root Mean squared error: 9.555\n"
     ]
    }
   ],
   "source": [
    "x_train, x_validation, y_train, y_validation = train_test_split(X, y, test_size = 0.33, random_state = 37)\n",
    "\n",
    "#regr = linear_model.LinearRegression()\n",
    "lasso = linear_model.Lasso(alpha = 70, normalize=False)\n",
    "lasso.fit(x_train, y_train)\n",
    "print('Coefficients: ', regr.coef_)\n",
    "print('Intercept: ', regr.intercept_)\n",
    "print(\"Root Mean squared error: %.3f\" % np.sqrt(np.mean((np.log(regr.predict(x_validation) )- np.log(y_validation))** 2)))"
   ]
  },
  {
   "cell_type": "code",
   "execution_count": 190,
   "metadata": {},
   "outputs": [
    {
     "data": {
      "image/png": "[encoded data removed]",
      "text/plain": [
       "<matplotlib.figure.Figure at 0x113e296a0>"
      ]
     },
     "metadata": {},
     "output_type": "display_data"
    }
   ],
   "source": [
    "coef = pd.Series(lasso.coef_, index = data_all.columns)\n",
    "imp = pd.concat([coef.sort_values().head(10), coef.sort_values().tail(10)])\n",
    "imp.plot(kind = \"barh\")\n",
    "plt.savefig(\"coef.png\")"
   ]
  },
  {
   "cell_type": "code",
   "execution_count": null,
   "metadata": {
    "collapsed": true
   },
   "outputs": [],
   "source": []
  },
  {
   "cell_type": "code",
   "execution_count": null,
   "metadata": {
    "collapsed": true
   },
   "outputs": [],
   "source": []
  }
 ],
 "metadata": {
  "kernelspec": {
   "display_name": "Python 3",
   "language": "python",
   "name": "python3"
  },
  "language_info": {
   "codemirror_mode": {
    "name": "ipython",
    "version": 3
   },
   "file_extension": ".py",
   "mimetype": "text/x-python",
   "name": "python",
   "nbconvert_exporter": "python",
   "pygments_lexer": "ipython3",
   "version": "3.6.1"
  }
 },
 "nbformat": 4,
 "nbformat_minor": 2
}
