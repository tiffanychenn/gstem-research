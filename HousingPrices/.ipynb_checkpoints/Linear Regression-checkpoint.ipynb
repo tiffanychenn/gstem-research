{
 "cells": [
  {
   "cell_type": "code",
   "execution_count": 2,
   "metadata": {
    "collapsed": true
   },
   "outputs": [],
   "source": [
    "import pandas as pd\n",
    "import numpy as np\n",
    "import matplotlib.pyplot as plt\n",
    "from sklearn import datasets, linear_model\n",
    "from sklearn.model_selection import train_test_split\n",
    "%matplotlib inline\n",
    "\n",
    "data = pd.read_csv(\"train.csv\")\n",
    "\n",
    "#output coefficients and error of data\n",
    "#train, validation, test\n",
    "\n",
    "# OverallQual seems to be the best predictor for housing prices\n",
    "# I graphed the variables YearBuilt, YearRemodAdd, 1stFlrSF, OverallQual, TotRmsAbvGrd, GarageArea, 2ndFlrSF, and \n",
    "# TotalBsmtSF"
   ]
  },
  {
   "cell_type": "code",
   "execution_count": 66,
   "metadata": {},
   "outputs": [
    {
     "name": "stdout",
     "output_type": "stream",
     "text": [
      "Coefficients: \n",
      " [[ 1345.55302537]]\n",
      "Mean squared error: 4404151600.78\n",
      "Variance score: 0.26\n"
     ]
    },
    {
     "data": {
      "image/png": "[encoded data removed]",
      "text/plain": [
       "<matplotlib.figure.Figure at 0x11401d400>"
      ]
     },
     "metadata": {},
     "output_type": "display_data"
    }
   ],
   "source": [
    "x = data[\"YearBuilt\"].values\n",
    "y = data.SalePrice.values\n",
    "\n",
    "x_train, x_validation, y_train, y_validation = train_test_split(x, y, test_size = 0.33, random_state = 37)\n",
    "\n",
    "x_train = pd.DataFrame(x_train)\n",
    "y_train = pd.DataFrame(y_train)\n",
    "x_validation = pd.DataFrame(x_validation)\n",
    "y_validation = pd.DataFrame(y_validation)\n",
    "\n",
    "regr = linear_model.LinearRegression()\n",
    "regr.fit(x_train, y_train)\n",
    "print('Coefficients: \\n', regr.coef_)\n",
    "print(\"Mean squared error: %.2f\" % np.mean((regr.predict(x_validation) - y_validation) ** 2))\n",
    "print('Variance score: %.2f' % regr.score(x_train, y_train))\n",
    "\n",
    "plt.scatter(x_validation, y_validation, color = 'black')\n",
    "plt.plot(x_validation, regr.predict(x_validation), color = 'red', linewidth = 3)\n",
    "plt.xticks(())\n",
    "plt.yticks(())\n",
    "plt.show()"
   ]
  },
  {
   "cell_type": "code",
   "execution_count": 64,
   "metadata": {},
   "outputs": [
    {
     "name": "stdout",
     "output_type": "stream",
     "text": [
      "Coefficients: \n",
      " [[ 2032.88887188]]\n",
      "Mean squared error: 4901462172.46\n",
      "Variance score: 0.28\n"
     ]
    },
    {
     "data": {
      "image/png": "[encoded data removed]",
      "text/plain": [
       "<matplotlib.figure.Figure at 0x11e0020b8>"
      ]
     },
     "metadata": {},
     "output_type": "display_data"
    }
   ],
   "source": [
    "x = data[\"YearRemodAdd\"].values\n",
    "y = data.SalePrice.values\n",
    "\n",
    "x_train, x_validation, y_train, y_validation = train_test_split(x, y, test_size = 0.33, random_state = 37)\n",
    "\n",
    "x_train = pd.DataFrame(x_train)\n",
    "y_train = pd.DataFrame(y_train)\n",
    "x_validation = pd.DataFrame(x_validation)\n",
    "y_validation = pd.DataFrame(y_validation)\n",
    "\n",
    "regr = linear_model.LinearRegression()\n",
    "regr.fit(x_train, y_train)\n",
    "print('Coefficients: \\n', regr.coef_)\n",
    "print(\"Mean squared error: %.2f\" % np.mean((regr.predict(x_validation) - y_validation) ** 2))\n",
    "print('Variance score: %.2f' % regr.score(x_train, y_train))\n",
    "\n",
    "plt.scatter(x_validation, y_validation, color = 'black')\n",
    "plt.plot(x_validation, regr.predict(x_validation), color = 'red', linewidth = 3)\n",
    "plt.xticks(())\n",
    "plt.yticks(())\n",
    "plt.show()"
   ]
  },
  {
   "cell_type": "code",
   "execution_count": 59,
   "metadata": {},
   "outputs": [
    {
     "name": "stdout",
     "output_type": "stream",
     "text": [
      "Coefficients: \n",
      " [[ 135.24329105]]\n",
      "Mean squared error: 4635698180.22\n",
      "Variance score: 0.42\n"
     ]
    },
    {
     "data": {
      "image/png": "[encoded data removed]",
      "text/plain": [
       "<matplotlib.figure.Figure at 0x11e126780>"
      ]
     },
     "metadata": {},
     "output_type": "display_data"
    }
   ],
   "source": [
    "x = data[\"1stFlrSF\"].values\n",
    "y = data.SalePrice.values\n",
    "\n",
    "x_train, x_validation, y_train, y_validation = train_test_split(x, y, test_size = 0.33, random_state = 37)\n",
    "\n",
    "x_train = pd.DataFrame(x_train)\n",
    "y_train = pd.DataFrame(y_train)\n",
    "x_validation = pd.DataFrame(x_validation)\n",
    "y_validation = pd.DataFrame(y_validation)\n",
    "\n",
    "regr = linear_model.LinearRegression()\n",
    "regr.fit(x_train, y_train)\n",
    "print('Coefficients: \\n', regr.coef_)\n",
    "print(\"Mean squared error: %.2f\" % np.mean((regr.predict(x_validation) - y_validation) ** 2))\n",
    "print('Variance score: %.2f' % regr.score(x_train, y_train))\n",
    "\n",
    "plt.scatter(x_validation, y_validation, color = 'black')\n",
    "plt.plot(x_validation, regr.predict(x_validation), color = 'red', linewidth = 3)\n",
    "plt.xticks(())\n",
    "plt.yticks(())\n",
    "plt.show()"
   ]
  },
  {
   "cell_type": "code",
   "execution_count": 58,
   "metadata": {
    "scrolled": true
   },
   "outputs": [
    {
     "name": "stdout",
     "output_type": "stream",
     "text": [
      "Coefficients: \n",
      " [[ 45932.01689611]]\n",
      "Mean squared error: 2527000915.60\n",
      "Variance score: 0.64\n"
     ]
    },
    {
     "data": {
      "image/png": "[encoded data removed]",
      "text/plain": [
       "<matplotlib.figure.Figure at 0x11e305b38>"
      ]
     },
     "metadata": {},
     "output_type": "display_data"
    }
   ],
   "source": [
    "x = data[\"OverallQual\"].values\n",
    "y = data.SalePrice.values\n",
    "\n",
    "x_train, x_validation, y_train, y_validation = train_test_split(x, y, test_size = 0.33, random_state = 37)\n",
    "\n",
    "x_train = pd.DataFrame(x_train)\n",
    "y_train = pd.DataFrame(y_train)\n",
    "x_validation = pd.DataFrame(x_validation)\n",
    "y_validation = pd.DataFrame(y_validation)\n",
    "\n",
    "regr = linear_model.LinearRegression()\n",
    "regr.fit(x_train, y_train)\n",
    "print('Coefficients: \\n', regr.coef_)\n",
    "print(\"Mean squared error: %.2f\" % np.mean((regr.predict(x_validation) - y_validation) ** 2))\n",
    "print('Variance score: %.2f' % regr.score(x_train, y_train))\n",
    "\n",
    "plt.scatter(x_validation, y_validation, color = 'black')\n",
    "plt.plot(x_validation, regr.predict(x_validation), color = 'red', linewidth = 3)\n",
    "plt.xticks(())\n",
    "plt.yticks(())\n",
    "plt.show()"
   ]
  },
  {
   "cell_type": "code",
   "execution_count": 57,
   "metadata": {},
   "outputs": [
    {
     "name": "stdout",
     "output_type": "stream",
     "text": [
      "Coefficients: \n",
      " [[ 26711.60797869]]\n",
      "Mean squared error: 4604787824.89\n",
      "Variance score: 0.30\n"
     ]
    },
    {
     "data": {
      "image/png": "[encoded data removed]",
      "text/plain": [
       "<matplotlib.figure.Figure at 0x11e0f43c8>"
      ]
     },
     "metadata": {},
     "output_type": "display_data"
    }
   ],
   "source": [
    "x = data[\"TotRmsAbvGrd\"].values\n",
    "y = data.SalePrice.values\n",
    "\n",
    "x_train, x_validation, y_train, y_validation = train_test_split(x, y, test_size = 0.33, random_state = 37)\n",
    "\n",
    "x_train = pd.DataFrame(x_train)\n",
    "y_train = pd.DataFrame(y_train)\n",
    "x_validation = pd.DataFrame(x_validation)\n",
    "y_validation = pd.DataFrame(y_validation)\n",
    "\n",
    "regr = linear_model.LinearRegression()\n",
    "regr.fit(x_train, y_train)\n",
    "print('Coefficients: \\n', regr.coef_)\n",
    "print(\"Mean squared error: %.2f\" % np.mean((regr.predict(x_validation) - y_validation) ** 2))\n",
    "print('Variance score: %.2f' % regr.score(x_train, y_train))\n",
    "\n",
    "plt.scatter(x_validation, y_validation, color = 'black')\n",
    "plt.plot(x_validation, regr.predict(x_validation), color = 'red', linewidth = 3)\n",
    "plt.xticks(())\n",
    "plt.yticks(())\n",
    "plt.show()"
   ]
  },
  {
   "cell_type": "code",
   "execution_count": 56,
   "metadata": {},
   "outputs": [
    {
     "name": "stdout",
     "output_type": "stream",
     "text": [
      "Coefficients: \n",
      " [[ 240.58798569]]\n",
      "Mean squared error: 4026638564.08\n",
      "Variance score: 0.41\n"
     ]
    },
    {
     "data": {
      "image/png": "[encoded data removed]",
      "text/plain": [
       "<matplotlib.figure.Figure at 0x11df14b38>"
      ]
     },
     "metadata": {},
     "output_type": "display_data"
    }
   ],
   "source": [
    "x = data[\"GarageArea\"].values\n",
    "y = data.SalePrice.values\n",
    "\n",
    "x_train, x_validation, y_train, y_validation = train_test_split(x, y, test_size = 0.33, random_state = 37)\n",
    "\n",
    "x_train = pd.DataFrame(x_train)\n",
    "y_train = pd.DataFrame(y_train)\n",
    "x_validation = pd.DataFrame(x_validation)\n",
    "y_validation = pd.DataFrame(y_validation)\n",
    "\n",
    "regr = linear_model.LinearRegression()\n",
    "regr.fit(x_train, y_train)\n",
    "print('Coefficients: \\n', regr.coef_)\n",
    "print(\"Mean squared error: %.2f\" % np.mean((regr.predict(x_validation) - y_validation) ** 2))\n",
    "print('Variance score: %.2f' % regr.score(x_train, y_train))\n",
    "\n",
    "plt.scatter(x_validation, y_validation, color = 'black')\n",
    "plt.plot(x_validation, regr.predict(x_validation), color = 'red', linewidth = 3)\n",
    "plt.xticks(())\n",
    "plt.yticks(())\n",
    "plt.show()"
   ]
  },
  {
   "cell_type": "code",
   "execution_count": 67,
   "metadata": {},
   "outputs": [
    {
     "name": "stdout",
     "output_type": "stream",
     "text": [
      "Coefficients: \n",
      " [[ 55.82887069]]\n",
      "Mean squared error: 5488510702.65\n",
      "Variance score: 0.09\n"
     ]
    },
    {
     "data": {
      "image/png": "[encoded data removed]",
      "text/plain": [
       "<matplotlib.figure.Figure at 0x10d5edac8>"
      ]
     },
     "metadata": {},
     "output_type": "display_data"
    }
   ],
   "source": [
    "x = data[\"2ndFlrSF\"].values\n",
    "y = data.SalePrice.values\n",
    "\n",
    "x_train, x_validation, y_train, y_validation = train_test_split(x, y, test_size = 0.33, random_state = 37)\n",
    "\n",
    "x_train = pd.DataFrame(x_train)\n",
    "y_train = pd.DataFrame(y_train)\n",
    "x_validation = pd.DataFrame(x_validation)\n",
    "y_validation = pd.DataFrame(y_validation)\n",
    "\n",
    "regr = linear_model.LinearRegression()\n",
    "regr.fit(x_train, y_train)\n",
    "print('Coefficients: \\n', regr.coef_)\n",
    "print(\"Mean squared error: %.2f\" % np.mean((regr.predict(x_validation) - y_validation) ** 2))\n",
    "print('Variance score: %.2f' % regr.score(x_train, y_train))\n",
    "\n",
    "plt.scatter(x_validation, y_validation, color = 'black')\n",
    "plt.plot(x_validation, regr.predict(x_validation), color = 'red', linewidth = 3)\n",
    "plt.xticks(())\n",
    "plt.yticks(())\n",
    "plt.show()"
   ]
  },
  {
   "cell_type": "code",
   "execution_count": 68,
   "metadata": {},
   "outputs": [
    {
     "name": "stdout",
     "output_type": "stream",
     "text": [
      "Coefficients: \n",
      " [[ 123.54064954]]\n",
      "Mean squared error: 4750581682.59\n",
      "Variance score: 0.44\n"
     ]
    },
    {
     "data": {
      "image/png": "[encoded data removed]",
      "text/plain": [
       "<matplotlib.figure.Figure at 0x11e40bda0>"
      ]
     },
     "metadata": {},
     "output_type": "display_data"
    }
   ],
   "source": [
    "x = data[\"TotalBsmtSF\"].values\n",
    "y = data.SalePrice.values\n",
    "\n",
    "x_train, x_validation, y_train, y_validation = train_test_split(x, y, test_size = 0.33, random_state = 37)\n",
    "\n",
    "x_train = pd.DataFrame(x_train)\n",
    "y_train = pd.DataFrame(y_train)\n",
    "x_validation = pd.DataFrame(x_validation)\n",
    "y_validation = pd.DataFrame(y_validation)\n",
    "\n",
    "regr = linear_model.LinearRegression()\n",
    "regr.fit(x_train, y_train)\n",
    "print('Coefficients: \\n', regr.coef_)\n",
    "print(\"Mean squared error: %.2f\" % np.mean((regr.predict(x_validation) - y_validation) ** 2))\n",
    "print('Variance score: %.2f' % regr.score(x_train, y_train))\n",
    "\n",
    "plt.scatter(x_validation, y_validation, color = 'black')\n",
    "plt.plot(x_validation, regr.predict(x_validation), color = 'red', linewidth = 3)\n",
    "plt.xticks(())\n",
    "plt.yticks(())\n",
    "plt.show()"
   ]
  },
  {
   "cell_type": "code",
   "execution_count": null,
   "metadata": {
    "collapsed": true
   },
   "outputs": [],
   "source": []
  }
 ],
 "metadata": {
  "kernelspec": {
   "display_name": "Python 3",
   "language": "python",
   "name": "python3"
  },
  "language_info": {
   "codemirror_mode": {
    "name": "ipython",
    "version": 3
   },
   "file_extension": ".py",
   "mimetype": "text/x-python",
   "name": "python",
   "nbconvert_exporter": "python",
   "pygments_lexer": "ipython3",
   "version": "3.6.1"
  }
 },
 "nbformat": 4,
 "nbformat_minor": 2
}
