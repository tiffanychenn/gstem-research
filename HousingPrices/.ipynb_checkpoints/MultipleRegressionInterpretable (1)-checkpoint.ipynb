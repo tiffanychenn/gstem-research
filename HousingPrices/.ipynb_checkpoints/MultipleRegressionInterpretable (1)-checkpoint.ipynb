{
 "cells": [
  {
   "cell_type": "code",
   "execution_count": 376,
   "metadata": {},
   "outputs": [],
   "source": [
    "import numpy as np\n",
    "import pandas as pd\n",
    "import seaborn as sns\n",
    "from sklearn.model_selection import train_test_split\n",
    "from sklearn import linear_model\n",
    "from sklearn.ensemble import RandomForestRegressor\n",
    "from sklearn.ensemble import GradientBoostingRegressor\n",
    "\n",
    "import matplotlib.pyplot as plt\n",
    "%matplotlib inline"
   ]
  },
  {
   "cell_type": "code",
   "execution_count": 377,
   "metadata": {},
   "outputs": [],
   "source": [
    "train_df = pd.read_csv('train.csv')\n",
    "test_df = pd.read_csv('test.csv')\n",
    "\n",
    "#Pass all of the data, both test and train, into our cleaning function.\n",
    "#Leave Id and SalePrice out because we don't want our model to predict from these.\n",
    "all_df = pd.concat((train_df.drop(['Id', 'SalePrice'], axis=1),\n",
    "                      test_df.drop('Id', axis=1)))"
   ]
  },
  {
   "cell_type": "code",
   "execution_count": 378,
   "metadata": {
    "collapsed": true
   },
   "outputs": [],
   "source": [
    "from scipy.stats import skew"
   ]
  },
  {
   "cell_type": "code",
   "execution_count": 379,
   "metadata": {
    "collapsed": true
   },
   "outputs": [],
   "source": [
    "def clean_data(df):\n",
    "    numeric_vars = df.select_dtypes(['float64', 'int64']).columns\n",
    "    data_numeric = df[numeric_vars]\n",
    "    \n",
    "    skewed_feats = data_numeric.apply(lambda x: skew(x.dropna())) #compute skewness\n",
    "    skewed_feats = skewed_feats[skewed_feats > 0.75]\n",
    "    skewed_feats = skewed_feats.index\n",
    "    \n",
    "    data_numeric[skewed_feats] = np.log1p(data_numeric[skewed_feats])\n",
    "    data_num_norm = (data_numeric - data_numeric.mean()) / (data_numeric.max() - data_numeric.min())\n",
    "    \n",
    "    data_cat = df.select_dtypes(['object'])\n",
    "    \n",
    "    result_df = pd.concat([pd.get_dummies(data_cat),data_num_norm], axis=1)\n",
    "    result_df = result_df.fillna(result_df.mean())\n",
    "    \n",
    "    return result_df"
   ]
  },
  {
   "cell_type": "code",
   "execution_count": 380,
   "metadata": {},
   "outputs": [
    {
     "data": {
      "text/plain": [
       "Index([u'MSSubClass', u'LotFrontage', u'LotArea', u'MasVnrArea', u'BsmtFinSF1',\n",
       "       u'BsmtFinSF2', u'BsmtUnfSF', u'TotalBsmtSF', u'1stFlrSF', u'2ndFlrSF',\n",
       "       u'LowQualFinSF', u'GrLivArea', u'BsmtHalfBath', u'KitchenAbvGr',\n",
       "       u'TotRmsAbvGrd', u'WoodDeckSF', u'OpenPorchSF', u'EnclosedPorch',\n",
       "       u'3SsnPorch', u'ScreenPorch', u'PoolArea', u'MiscVal'],\n",
       "      dtype='object')"
      ]
     },
     "execution_count": 380,
     "metadata": {},
     "output_type": "execute_result"
    }
   ],
   "source": [
    "#Just to check what the skewed features are.\n",
    "data_numeric = all_df[all_df.select_dtypes(['float64', 'int64']).columns]\n",
    "skewed_feats = data_numeric.apply(lambda x: skew(x.dropna())) #compute skewness\n",
    "skewed_feats = skewed_feats[skewed_feats > 0.75]\n",
    "skewed_feats = skewed_feats.index\n",
    "skewed_feats"
   ]
  },
  {
   "cell_type": "code",
   "execution_count": 381,
   "metadata": {},
   "outputs": [
    {
     "data": {
      "text/plain": [
       "<matplotlib.axes._subplots.AxesSubplot at 0x13141f450>"
      ]
     },
     "execution_count": 381,
     "metadata": {},
     "output_type": "execute_result"
    },
    {
     "data": {
      "image/png": "[encoded data removed]",
      "text/plain": [
       "<matplotlib.figure.Figure at 0x1313cc390>"
      ]
     },
     "metadata": {},
     "output_type": "display_data"
    }
   ],
   "source": [
    "#data_numeric['GrLivArea'].apply(lambda x: np.log1p(x)).hist(bins=20)\n",
    "data_numeric['GrLivArea'].hist(bins=20)"
   ]
  },
  {
   "cell_type": "code",
   "execution_count": 382,
   "metadata": {},
   "outputs": [],
   "source": [
    "data_all = clean_data(all_df)"
   ]
  },
  {
   "cell_type": "code",
   "execution_count": 383,
   "metadata": {},
   "outputs": [
    {
     "data": {
      "text/html": [
       "<div>\n",
       "<style>\n",
       "    .dataframe thead tr:only-child th {\n",
       "        text-align: right;\n",
       "    }\n",
       "\n",
       "    .dataframe thead th {\n",
       "        text-align: left;\n",
       "    }\n",
       "\n",
       "    .dataframe tbody tr th {\n",
       "        vertical-align: top;\n",
       "    }\n",
       "</style>\n",
       "<table border=\"1\" class=\"dataframe\">\n",
       "  <thead>\n",
       "    <tr style=\"text-align: right;\">\n",
       "      <th></th>\n",
       "      <th>MSZoning_C (all)</th>\n",
       "      <th>MSZoning_FV</th>\n",
       "      <th>MSZoning_RH</th>\n",
       "      <th>MSZoning_RL</th>\n",
       "      <th>MSZoning_RM</th>\n",
       "      <th>Street_Grvl</th>\n",
       "      <th>Street_Pave</th>\n",
       "      <th>Alley_Grvl</th>\n",
       "      <th>Alley_Pave</th>\n",
       "      <th>LotShape_IR1</th>\n",
       "      <th>...</th>\n",
       "      <th>GarageArea</th>\n",
       "      <th>WoodDeckSF</th>\n",
       "      <th>OpenPorchSF</th>\n",
       "      <th>EnclosedPorch</th>\n",
       "      <th>3SsnPorch</th>\n",
       "      <th>ScreenPorch</th>\n",
       "      <th>PoolArea</th>\n",
       "      <th>MiscVal</th>\n",
       "      <th>MoSold</th>\n",
       "      <th>YrSold</th>\n",
       "    </tr>\n",
       "  </thead>\n",
       "  <tbody>\n",
       "    <tr>\n",
       "      <th>0</th>\n",
       "      <td>0</td>\n",
       "      <td>0</td>\n",
       "      <td>0</td>\n",
       "      <td>1</td>\n",
       "      <td>0</td>\n",
       "      <td>0</td>\n",
       "      <td>1</td>\n",
       "      <td>0</td>\n",
       "      <td>0</td>\n",
       "      <td>0</td>\n",
       "      <td>...</td>\n",
       "      <td>0.050488</td>\n",
       "      <td>-0.337330</td>\n",
       "      <td>0.271398</td>\n",
       "      <td>-0.109445</td>\n",
       "      <td>-0.010621</td>\n",
       "      <td>-0.07097</td>\n",
       "      <td>-0.004092</td>\n",
       "      <td>-0.024101</td>\n",
       "      <td>-0.383008</td>\n",
       "      <td>0.051816</td>\n",
       "    </tr>\n",
       "    <tr>\n",
       "      <th>1</th>\n",
       "      <td>0</td>\n",
       "      <td>0</td>\n",
       "      <td>0</td>\n",
       "      <td>1</td>\n",
       "      <td>0</td>\n",
       "      <td>0</td>\n",
       "      <td>1</td>\n",
       "      <td>0</td>\n",
       "      <td>0</td>\n",
       "      <td>0</td>\n",
       "      <td>...</td>\n",
       "      <td>-0.008652</td>\n",
       "      <td>0.447647</td>\n",
       "      <td>-0.352914</td>\n",
       "      <td>-0.109445</td>\n",
       "      <td>-0.010621</td>\n",
       "      <td>-0.07097</td>\n",
       "      <td>-0.004092</td>\n",
       "      <td>-0.024101</td>\n",
       "      <td>-0.110281</td>\n",
       "      <td>-0.198184</td>\n",
       "    </tr>\n",
       "    <tr>\n",
       "      <th>2</th>\n",
       "      <td>0</td>\n",
       "      <td>0</td>\n",
       "      <td>0</td>\n",
       "      <td>1</td>\n",
       "      <td>0</td>\n",
       "      <td>0</td>\n",
       "      <td>1</td>\n",
       "      <td>0</td>\n",
       "      <td>0</td>\n",
       "      <td>1</td>\n",
       "      <td>...</td>\n",
       "      <td>0.090810</td>\n",
       "      <td>-0.337330</td>\n",
       "      <td>0.216043</td>\n",
       "      <td>-0.109445</td>\n",
       "      <td>-0.010621</td>\n",
       "      <td>-0.07097</td>\n",
       "      <td>-0.004092</td>\n",
       "      <td>-0.024101</td>\n",
       "      <td>0.253356</td>\n",
       "      <td>0.051816</td>\n",
       "    </tr>\n",
       "    <tr>\n",
       "      <th>3</th>\n",
       "      <td>0</td>\n",
       "      <td>0</td>\n",
       "      <td>0</td>\n",
       "      <td>1</td>\n",
       "      <td>0</td>\n",
       "      <td>0</td>\n",
       "      <td>1</td>\n",
       "      <td>0</td>\n",
       "      <td>0</td>\n",
       "      <td>1</td>\n",
       "      <td>...</td>\n",
       "      <td>0.113660</td>\n",
       "      <td>-0.337330</td>\n",
       "      <td>0.189165</td>\n",
       "      <td>0.701093</td>\n",
       "      <td>-0.010621</td>\n",
       "      <td>-0.07097</td>\n",
       "      <td>-0.004092</td>\n",
       "      <td>-0.024101</td>\n",
       "      <td>-0.383008</td>\n",
       "      <td>-0.448184</td>\n",
       "    </tr>\n",
       "    <tr>\n",
       "      <th>4</th>\n",
       "      <td>0</td>\n",
       "      <td>0</td>\n",
       "      <td>0</td>\n",
       "      <td>1</td>\n",
       "      <td>0</td>\n",
       "      <td>0</td>\n",
       "      <td>1</td>\n",
       "      <td>0</td>\n",
       "      <td>0</td>\n",
       "      <td>1</td>\n",
       "      <td>...</td>\n",
       "      <td>0.244036</td>\n",
       "      <td>0.387366</td>\n",
       "      <td>0.319126</td>\n",
       "      <td>-0.109445</td>\n",
       "      <td>-0.010621</td>\n",
       "      <td>-0.07097</td>\n",
       "      <td>-0.004092</td>\n",
       "      <td>-0.024101</td>\n",
       "      <td>0.526083</td>\n",
       "      <td>0.051816</td>\n",
       "    </tr>\n",
       "  </tbody>\n",
       "</table>\n",
       "<p>5 rows × 288 columns</p>\n",
       "</div>"
      ],
      "text/plain": [
       "   MSZoning_C (all)  MSZoning_FV  MSZoning_RH  MSZoning_RL  MSZoning_RM  \\\n",
       "0                 0            0            0            1            0   \n",
       "1                 0            0            0            1            0   \n",
       "2                 0            0            0            1            0   \n",
       "3                 0            0            0            1            0   \n",
       "4                 0            0            0            1            0   \n",
       "\n",
       "   Street_Grvl  Street_Pave  Alley_Grvl  Alley_Pave  LotShape_IR1    ...     \\\n",
       "0            0            1           0           0             0    ...      \n",
       "1            0            1           0           0             0    ...      \n",
       "2            0            1           0           0             1    ...      \n",
       "3            0            1           0           0             1    ...      \n",
       "4            0            1           0           0             1    ...      \n",
       "\n",
       "   GarageArea  WoodDeckSF  OpenPorchSF  EnclosedPorch  3SsnPorch  ScreenPorch  \\\n",
       "0    0.050488   -0.337330     0.271398      -0.109445  -0.010621     -0.07097   \n",
       "1   -0.008652    0.447647    -0.352914      -0.109445  -0.010621     -0.07097   \n",
       "2    0.090810   -0.337330     0.216043      -0.109445  -0.010621     -0.07097   \n",
       "3    0.113660   -0.337330     0.189165       0.701093  -0.010621     -0.07097   \n",
       "4    0.244036    0.387366     0.319126      -0.109445  -0.010621     -0.07097   \n",
       "\n",
       "   PoolArea   MiscVal    MoSold    YrSold  \n",
       "0 -0.004092 -0.024101 -0.383008  0.051816  \n",
       "1 -0.004092 -0.024101 -0.110281 -0.198184  \n",
       "2 -0.004092 -0.024101  0.253356  0.051816  \n",
       "3 -0.004092 -0.024101 -0.383008 -0.448184  \n",
       "4 -0.004092 -0.024101  0.526083  0.051816  \n",
       "\n",
       "[5 rows x 288 columns]"
      ]
     },
     "execution_count": 383,
     "metadata": {},
     "output_type": "execute_result"
    }
   ],
   "source": [
    "data_all.head()"
   ]
  },
  {
   "cell_type": "code",
   "execution_count": 385,
   "metadata": {},
   "outputs": [],
   "source": [
    "#Recover which rows were test and which were train\n",
    "train_data_all = data_all[:train_df.shape[0]]\n",
    "test_data_all = data_all[train_df.shape[0]:]"
   ]
  },
  {
   "cell_type": "code",
   "execution_count": 386,
   "metadata": {},
   "outputs": [],
   "source": [
    "X = train_data_all.values\n",
    "y = np.log1p(train_df['SalePrice'].values)\n",
    "#y = train_df['SalePrice'].values"
   ]
  },
  {
   "cell_type": "code",
   "execution_count": 392,
   "metadata": {},
   "outputs": [],
   "source": [
    "def get_mse(X, y, a):\n",
    "    x_train, x_validation, y_train, y_validation = train_test_split(X, y, test_size = 0.33, random_state = 37)\n",
    "\n",
    "\n",
    "    #regr = linear_model.Ridge(alpha = a)\n",
    "    regr = linear_model.Lasso(alpha = a, normalize = False)\n",
    "    regr.fit(x_train, y_train)\n",
    "    \n",
    "    #return np.sqrt(np.mean((np.log(regr.predict(x_validation) )- np.log(y_validation))** 2))\n",
    "    return np.sqrt(np.mean(regr.predict(x_validation) - y_validation)** 2)"
   ]
  },
  {
   "cell_type": "code",
   "execution_count": 393,
   "metadata": {},
   "outputs": [
    {
     "data": {
      "text/html": [
       "<div>\n",
       "<style>\n",
       "    .dataframe thead tr:only-child th {\n",
       "        text-align: right;\n",
       "    }\n",
       "\n",
       "    .dataframe thead th {\n",
       "        text-align: left;\n",
       "    }\n",
       "\n",
       "    .dataframe tbody tr th {\n",
       "        vertical-align: top;\n",
       "    }\n",
       "</style>\n",
       "<table border=\"1\" class=\"dataframe\">\n",
       "  <thead>\n",
       "    <tr style=\"text-align: right;\">\n",
       "      <th></th>\n",
       "      <th>alpha</th>\n",
       "      <th>mse</th>\n",
       "    </tr>\n",
       "  </thead>\n",
       "  <tbody>\n",
       "    <tr>\n",
       "      <th>0</th>\n",
       "      <td>0.0001</td>\n",
       "      <td>0.002085</td>\n",
       "    </tr>\n",
       "    <tr>\n",
       "      <th>1</th>\n",
       "      <td>0.0010</td>\n",
       "      <td>0.001906</td>\n",
       "    </tr>\n",
       "    <tr>\n",
       "      <th>2</th>\n",
       "      <td>0.0100</td>\n",
       "      <td>0.001057</td>\n",
       "    </tr>\n",
       "    <tr>\n",
       "      <th>3</th>\n",
       "      <td>0.1000</td>\n",
       "      <td>0.018632</td>\n",
       "    </tr>\n",
       "    <tr>\n",
       "      <th>4</th>\n",
       "      <td>1.0000</td>\n",
       "      <td>0.018827</td>\n",
       "    </tr>\n",
       "  </tbody>\n",
       "</table>\n",
       "</div>"
      ],
      "text/plain": [
       "    alpha       mse\n",
       "0  0.0001  0.002085\n",
       "1  0.0010  0.001906\n",
       "2  0.0100  0.001057\n",
       "3  0.1000  0.018632\n",
       "4  1.0000  0.018827"
      ]
     },
     "execution_count": 393,
     "metadata": {},
     "output_type": "execute_result"
    }
   ],
   "source": [
    "alpha_optimization_df = pd.DataFrame({'alpha': [1e-4, 1e-3, 1e-2, 1e-1, 1]})\n",
    "#alpha_optimization_df = pd.DataFrame({'alpha': [1, 2,3,4,5,10,20,30,40]})\n",
    "alpha_optimization_df['mse'] = alpha_optimization_df['alpha'].apply(lambda a: get_mse(X, y, a))\n",
    "alpha_optimization_df.head()"
   ]
  },
  {
   "cell_type": "code",
   "execution_count": 394,
   "metadata": {},
   "outputs": [
    {
     "data": {
      "text/plain": [
       "<matplotlib.axes._subplots.AxesSubplot at 0x1312c2b50>"
      ]
     },
     "execution_count": 394,
     "metadata": {},
     "output_type": "execute_result"
    },
    {
     "data": {
      "image/png": "[encoded data removed]",
      "text/plain": [
       "<matplotlib.figure.Figure at 0x1309b1c50>"
      ]
     },
     "metadata": {},
     "output_type": "display_data"
    }
   ],
   "source": [
    "alpha_optimization_df.plot(x = 'alpha', y = 'mse', kind = 'scatter', xlim=[1e-10, 1], logx=True)"
   ]
  },
  {
   "cell_type": "markdown",
   "metadata": {},
   "source": [
    "Looks like the best alpha is around 10 for ridge and around 0.005 for lasso.  "
   ]
  },
  {
   "cell_type": "code",
   "execution_count": 395,
   "metadata": {},
   "outputs": [
    {
     "name": "stdout",
     "output_type": "stream",
     "text": [
      "('Intercept: ', 11.800783398985292)\n",
      "Root Mean squared error: 0.0122\n"
     ]
    }
   ],
   "source": [
    "x_train, x_validation, y_train, y_validation = train_test_split(X, y, test_size = 0.33, random_state = 37)\n",
    "\n",
    "#regr = linear_model.LinearRegression()\n",
    "regr = linear_model.Ridge(alpha = 10)\n",
    "regr.fit(x_train, y_train)\n",
    "#print('Coefficients: ', regr.coef_)\n",
    "print('Intercept: ', regr.intercept_)\n",
    "print(\"Root Mean squared error: %.4f\" % np.sqrt(np.mean((np.log(regr.predict(x_validation) )- np.log(y_validation))** 2)))"
   ]
  },
  {
   "cell_type": "code",
   "execution_count": 416,
   "metadata": {},
   "outputs": [
    {
     "name": "stdout",
     "output_type": "stream",
     "text": [
      "('Intercept: ', 11.800783398985292)\n",
      "Root Mean squared error: 0.0143\n",
      "Root Mean squared error: 0.1227\n"
     ]
    }
   ],
   "source": [
    "x_train, x_validation, y_train, y_validation = train_test_split(X, y, test_size = 0.33, random_state = 37)\n",
    "\n",
    "#regr = linear_model.LinearRegression()\n",
    "lasso = linear_model.Lasso(alpha = 1e-2)\n",
    "lasso.fit(x_train, y_train)\n",
    "#print('Coefficients: ', regr.coef_)\n",
    "print('Intercept: ', regr.intercept_)\n",
    "\n",
    "err = (np.expm1(lasso.predict(x_validation))- np.expm1(y_validation))/np.expm1(y_validation)\n",
    "\n",
    "print(\"Root Mean squared error: %.4f\" % np.sqrt(np.mean((np.log(lasso.predict(x_validation) )- np.log(y_validation))** 2)))\n",
    "print(\"Root Mean squared error: %.4f\" % np.mean(abs(err)))"
   ]
  },
  {
   "cell_type": "code",
   "execution_count": 439,
   "metadata": {},
   "outputs": [
    {
     "data": {
      "text/plain": [
       "<matplotlib.text.Text at 0x1334fe2d0>"
      ]
     },
     "execution_count": 439,
     "metadata": {},
     "output_type": "execute_result"
    },
    {
     "data": {
      "image/png": "[encoded data removed]",
      "text/plain": [
       "<matplotlib.figure.Figure at 0x1345d4d10>"
      ]
     },
     "metadata": {},
     "output_type": "display_data"
    }
   ],
   "source": [
    "plt = pd.DataFrame({' ': err*100}).hist(bins=40, normed = True)\n",
    "plt[0][0].set_xlim([-50,50])\n",
    "plt[0][0].set_xlabel(\"% Error\")\n",
    "plt[0][0].set_ylabel(\"Frequency\")"
   ]
  },
  {
   "cell_type": "raw",
   "metadata": {},
   "source": [
    "#coefficients = pd.DataFrame({'var': data_all.columns, 'coef': lasso.coef_})\n",
    "#coef = pd.Series(regr.coef_, index = data_all.columns)\n",
    "coef = pd.Series(lasso.coef_, index = data_all.columns)"
   ]
  },
  {
   "cell_type": "code",
   "execution_count": 440,
   "metadata": {
    "scrolled": true
   },
   "outputs": [
    {
     "data": {
      "text/plain": [
       "MSZoning_C (all)   -0.000000\n",
       "MSZoning_FV         0.000000\n",
       "MSZoning_RH         0.000000\n",
       "MSZoning_RL         0.003125\n",
       "MSZoning_RM        -0.000000\n",
       "dtype: float64"
      ]
     },
     "execution_count": 440,
     "metadata": {},
     "output_type": "execute_result"
    }
   ],
   "source": [
    "coef.head()"
   ]
  },
  {
   "cell_type": "code",
   "execution_count": 441,
   "metadata": {},
   "outputs": [
    {
     "data": {
      "text/plain": [
       "<matplotlib.axes._subplots.AxesSubplot at 0x1329bfd90>"
      ]
     },
     "execution_count": 441,
     "metadata": {},
     "output_type": "execute_result"
    },
    {
     "data": {
      "image/png": "[encoded data removed]",
      "text/plain": [
       "<matplotlib.figure.Figure at 0x1328f25d0>"
      ]
     },
     "metadata": {},
     "output_type": "display_data"
    }
   ],
   "source": [
    "coef.sort_values().tail(10).plot(kind = 'barh')"
   ]
  },
  {
   "cell_type": "code",
   "execution_count": null,
   "metadata": {},
   "outputs": [],
   "source": []
  },
  {
   "cell_type": "markdown",
   "metadata": {},
   "source": [
    "## Create the Test Set for Upload"
   ]
  },
  {
   "cell_type": "code",
   "execution_count": 349,
   "metadata": {
    "collapsed": true
   },
   "outputs": [],
   "source": [
    "X_test = test_data_all.values"
   ]
  },
  {
   "cell_type": "code",
   "execution_count": 350,
   "metadata": {},
   "outputs": [],
   "source": [
    "#preds = np.expm1(regr.predict(X_test))\n",
    "preds = np.expm1(lasso.predict(X_test))"
   ]
  },
  {
   "cell_type": "code",
   "execution_count": 351,
   "metadata": {},
   "outputs": [],
   "source": [
    "solution = pd.DataFrame({\"id\":test_df.Id, \"SalePrice\":preds})\n",
    "solution.to_csv(\"ridge_sol.csv\", index = False)"
   ]
  },
  {
   "cell_type": "code",
   "execution_count": 352,
   "metadata": {},
   "outputs": [
    {
     "data": {
      "text/html": [
       "<div>\n",
       "<style>\n",
       "    .dataframe thead tr:only-child th {\n",
       "        text-align: right;\n",
       "    }\n",
       "\n",
       "    .dataframe thead th {\n",
       "        text-align: left;\n",
       "    }\n",
       "\n",
       "    .dataframe tbody tr th {\n",
       "        vertical-align: top;\n",
       "    }\n",
       "</style>\n",
       "<table border=\"1\" class=\"dataframe\">\n",
       "  <thead>\n",
       "    <tr style=\"text-align: right;\">\n",
       "      <th></th>\n",
       "      <th>SalePrice</th>\n",
       "      <th>id</th>\n",
       "    </tr>\n",
       "  </thead>\n",
       "  <tbody>\n",
       "    <tr>\n",
       "      <th>0</th>\n",
       "      <td>123358.283078</td>\n",
       "      <td>1461</td>\n",
       "    </tr>\n",
       "    <tr>\n",
       "      <th>1</th>\n",
       "      <td>159618.733948</td>\n",
       "      <td>1462</td>\n",
       "    </tr>\n",
       "    <tr>\n",
       "      <th>2</th>\n",
       "      <td>185361.661424</td>\n",
       "      <td>1463</td>\n",
       "    </tr>\n",
       "    <tr>\n",
       "      <th>3</th>\n",
       "      <td>197362.668298</td>\n",
       "      <td>1464</td>\n",
       "    </tr>\n",
       "    <tr>\n",
       "      <th>4</th>\n",
       "      <td>199249.865978</td>\n",
       "      <td>1465</td>\n",
       "    </tr>\n",
       "  </tbody>\n",
       "</table>\n",
       "</div>"
      ],
      "text/plain": [
       "       SalePrice    id\n",
       "0  123358.283078  1461\n",
       "1  159618.733948  1462\n",
       "2  185361.661424  1463\n",
       "3  197362.668298  1464\n",
       "4  199249.865978  1465"
      ]
     },
     "execution_count": 352,
     "metadata": {},
     "output_type": "execute_result"
    }
   ],
   "source": [
    "solution.head()"
   ]
  },
  {
   "cell_type": "code",
   "execution_count": null,
   "metadata": {
    "collapsed": true
   },
   "outputs": [],
   "source": []
  }
 ],
 "metadata": {
  "kernelspec": {
   "display_name": "Python 3",
   "language": "python",
   "name": "python3"
  },
  "language_info": {
   "codemirror_mode": {
    "name": "ipython",
    "version": 3
   },
   "file_extension": ".py",
   "mimetype": "text/x-python",
   "name": "python",
   "nbconvert_exporter": "python",
   "pygments_lexer": "ipython3",
   "version": "3.6.1"
  }
 },
 "nbformat": 4,
 "nbformat_minor": 1
}
