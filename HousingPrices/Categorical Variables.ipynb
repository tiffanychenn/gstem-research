{
 "cells": [
  {
   "cell_type": "code",
   "execution_count": 2,
   "metadata": {
    "collapsed": true
   },
   "outputs": [],
   "source": [
    "import numpy as np\n",
    "import pandas as pd\n",
    "import seaborn as sns\n",
    "from sklearn.model_selection import train_test_split\n",
    "from sklearn.metrics import mean_squared_error\n",
    "from sklearn import linear_model\n",
    "import matplotlib.pyplot as plt\n",
    "%matplotlib inline\n",
    "\n",
    "# variables originally there: YearBuilt, YearRemodAdd, 1stFlrSF, OverallQual, 2ndFlrSF, TotRmsAbvGrd, GarageArea, TotalBsmtSF, GrLivArea, FullBath, BedroomAbvGr, Fireplaces, GarageCars\n",
    "# things I added: MSZoning, Street, Alley, Neighborhood, BldgType, all qualities and conditions, BsmtExposure, GarageType, GarageFinish"
   ]
  },
  {
   "cell_type": "code",
   "execution_count": 3,
   "metadata": {
    "collapsed": true
   },
   "outputs": [],
   "source": [
    "data = pd.read_csv(\"train.csv\")\n",
    "\n",
    "category = data.select_dtypes(include = [\"object\"])\n",
    "concat0 = pd.get_dummies(category)\n",
    "concat1 = data.select_dtypes(exclude = [\"object\"])\n",
    "\n",
    "data_all = pd.concat([concat0, concat1], axis = 1).drop(['LotFrontage', 'MasVnrArea', 'GarageYrBlt', \"SalePrice\"], axis = 1)"
   ]
  },
  {
   "cell_type": "code",
   "execution_count": 4,
   "metadata": {},
   "outputs": [
    {
     "data": {
      "text/plain": [
       "['Id',\n",
       " 'MSSubClass',\n",
       " 'MSZoning',\n",
       " 'LotFrontage',\n",
       " 'LotArea',\n",
       " 'Street',\n",
       " 'Alley',\n",
       " 'LotShape',\n",
       " 'LandContour',\n",
       " 'Utilities',\n",
       " 'LotConfig',\n",
       " 'LandSlope',\n",
       " 'Neighborhood',\n",
       " 'Condition1',\n",
       " 'Condition2',\n",
       " 'BldgType',\n",
       " 'HouseStyle',\n",
       " 'OverallQual',\n",
       " 'OverallCond',\n",
       " 'YearBuilt',\n",
       " 'YearRemodAdd',\n",
       " 'RoofStyle',\n",
       " 'RoofMatl',\n",
       " 'Exterior1st',\n",
       " 'Exterior2nd',\n",
       " 'MasVnrType',\n",
       " 'MasVnrArea',\n",
       " 'ExterQual',\n",
       " 'ExterCond',\n",
       " 'Foundation',\n",
       " 'BsmtQual',\n",
       " 'BsmtCond',\n",
       " 'BsmtExposure',\n",
       " 'BsmtFinType1',\n",
       " 'BsmtFinSF1',\n",
       " 'BsmtFinType2',\n",
       " 'BsmtFinSF2',\n",
       " 'BsmtUnfSF',\n",
       " 'TotalBsmtSF',\n",
       " 'Heating',\n",
       " 'HeatingQC',\n",
       " 'CentralAir',\n",
       " 'Electrical',\n",
       " '1stFlrSF',\n",
       " '2ndFlrSF',\n",
       " 'LowQualFinSF',\n",
       " 'GrLivArea',\n",
       " 'BsmtFullBath',\n",
       " 'BsmtHalfBath',\n",
       " 'FullBath',\n",
       " 'HalfBath',\n",
       " 'BedroomAbvGr',\n",
       " 'KitchenAbvGr',\n",
       " 'KitchenQual',\n",
       " 'TotRmsAbvGrd',\n",
       " 'Functional',\n",
       " 'Fireplaces',\n",
       " 'FireplaceQu',\n",
       " 'GarageType',\n",
       " 'GarageYrBlt',\n",
       " 'GarageFinish',\n",
       " 'GarageCars',\n",
       " 'GarageArea',\n",
       " 'GarageQual',\n",
       " 'GarageCond',\n",
       " 'PavedDrive',\n",
       " 'WoodDeckSF',\n",
       " 'OpenPorchSF',\n",
       " 'EnclosedPorch',\n",
       " '3SsnPorch',\n",
       " 'ScreenPorch',\n",
       " 'PoolArea',\n",
       " 'PoolQC',\n",
       " 'Fence',\n",
       " 'MiscFeature',\n",
       " 'MiscVal',\n",
       " 'MoSold',\n",
       " 'YrSold',\n",
       " 'SaleType',\n",
       " 'SaleCondition',\n",
       " 'SalePrice']"
      ]
     },
     "execution_count": 4,
     "metadata": {},
     "output_type": "execute_result"
    }
   ],
   "source": [
    "list(data.columns)"
   ]
  },
  {
   "cell_type": "code",
   "execution_count": 5,
   "metadata": {
    "collapsed": true
   },
   "outputs": [],
   "source": [
    "X = data_all.values\n",
    "y = data['SalePrice'].values"
   ]
  },
  {
   "cell_type": "code",
   "execution_count": 6,
   "metadata": {
    "collapsed": true
   },
   "outputs": [],
   "source": [
    "def get_mse(X, y, a):\n",
    "    x_train, x_validation, y_train, y_validation = train_test_split(X, y, test_size = 0.33, random_state = 37)\n",
    "    regr = linear_model.Ridge(alpha = a, normalize = True)\n",
    "    regr.fit(x_train, y_train)\n",
    "    return np.sqrt(np.mean((np.log(regr.predict(x_validation)) - np.log(y_validation)) ** 2))"
   ]
  },
  {
   "cell_type": "code",
   "execution_count": 14,
   "metadata": {},
   "outputs": [
    {
     "data": {
      "image/png": "[encoded data removed]",
      "text/plain": [
       "<matplotlib.figure.Figure at 0x1203fc208>"
      ]
     },
     "metadata": {},
     "output_type": "display_data"
    }
   ],
   "source": [
    "alpha_optimization = pd.DataFrame({'alpha': [0.01, 0.1, 0.2, 0.3, 0.4, 0.5, 0.6, 0.7, 0.8, 0.9, 1.0, 1.5, 2, 3, 4, 5]})\n",
    "alpha_optimization[\"mse\"] = alpha_optimization['alpha'].apply(lambda a: get_mse(X, y, a))\n",
    "alpha_plot = alpha_optimization.plot(x = \"alpha\", y = \"mse\")\n",
    "plt.savefig(\"alpha_plot.png\")"
   ]
  },
  {
   "cell_type": "code",
   "execution_count": 8,
   "metadata": {},
   "outputs": [
    {
     "data": {
      "text/plain": [
       "<matplotlib.axes._subplots.AxesSubplot at 0x119fa6b38>"
      ]
     },
     "execution_count": 8,
     "metadata": {},
     "output_type": "execute_result"
    },
    {
     "data": {
      "image/png": "[encoded data removed]",
      "text/plain": [
       "<matplotlib.figure.Figure at 0x11a03aef0>"
      ]
     },
     "metadata": {},
     "output_type": "display_data"
    }
   ],
   "source": [
    "alpha_optimization = pd.DataFrame({'alpha': [0.01, 0.1, 0.2, 0.3, 0.4, 0.5, 0.6, 0.7, 0.8, 0.9, 1.0]})\n",
    "alpha_optimization[\"mse\"] = alpha_optimization['alpha'].apply(lambda a: get_mse(X, y, a))\n",
    "alpha_optimization.plot(x = \"alpha\", y = \"mse\")"
   ]
  },
  {
   "cell_type": "code",
   "execution_count": 21,
   "metadata": {},
   "outputs": [
    {
     "data": {
      "text/plain": [
       "<matplotlib.axes._subplots.AxesSubplot at 0x11930b4e0>"
      ]
     },
     "execution_count": 21,
     "metadata": {},
     "output_type": "execute_result"
    },
    {
     "data": {
      "image/png": "[encoded data removed]",
      "text/plain": [
       "<matplotlib.figure.Figure at 0x1193c55c0>"
      ]
     },
     "metadata": {},
     "output_type": "display_data"
    }
   ],
   "source": [
    "alpha_optimization = pd.DataFrame({'alpha': [0.7, 0.71, 0.72, 0.73, 0.74, 0.75, 0.76, 0.77, 0.78, 0.79, 0.8]})\n",
    "alpha_optimization[\"mse\"] = alpha_optimization['alpha'].apply(lambda a: get_mse(X, y, a))\n",
    "alpha_optimization.plot(kind = \"scatter\", x = \"alpha\", y = \"mse\")\n",
    "\n",
    "#perfect alpha is 0.7-0.71 I think -- going to do 0.705"
   ]
  },
  {
   "cell_type": "code",
   "execution_count": 22,
   "metadata": {},
   "outputs": [
    {
     "name": "stdout",
     "output_type": "stream",
     "text": [
      "Coefficients:  [ -1.56838572e+04   3.47865620e+03   4.00992593e+03   2.00079061e+03\n",
      "  -3.02411052e+03  -1.18763375e+04   1.18763375e+04  -2.91946029e+03\n",
      "  -1.36511507e+02  -2.23321329e+01   4.69970404e+03   1.13492338e+03\n",
      "  -5.95510713e+02  -1.04009427e+03   3.82622053e+03  -2.65529708e+03\n",
      "  -2.31881949e+02   1.19972513e+04  -1.19972513e+04   6.14211440e+02\n",
      "   6.96220152e+03  -7.24994354e+03  -6.09318638e+03  -1.48462103e+03\n",
      "  -2.64504098e+03   4.31464634e+03  -7.91325782e+03  -5.75699949e+03\n",
      "   0.00000000e+00  -2.23524580e+02   1.95907253e+03  -6.33487951e+02\n",
      "  -2.51272170e+03   1.28485663e+04  -6.19475656e+03  -6.00543773e+03\n",
      "  -2.52284740e+03  -6.28284186e+03  -7.81112598e+03  -3.87722502e+03\n",
      "   4.13568820e+03  -2.70080186e+03   2.66884289e+04   1.45076666e+04\n",
      "  -2.60815551e+03  -4.54932566e+03  -3.07019003e+03   6.92641523e+00\n",
      "   4.61911470e+03   2.31747311e+04  -4.27464547e+03   3.84784012e+03\n",
      "  -3.46971430e+03  -3.14406545e+03   3.80398049e+03  -4.05522519e+03\n",
      "  -3.38551792e+03  -1.31140723e+04  -6.39067975e+02  -1.27834898e+04\n",
      "  -9.13204225e+02  -9.82041352e+03  -2.64925940e+02  -2.55967560e+02\n",
      "   2.91248296e+04   7.22946018e+02  -1.34461524e+04   0.00000000e+00\n",
      "   3.79154813e+03   5.19556359e+03  -3.84647576e+03  -3.40666051e+03\n",
      "  -4.06688846e+03  -5.45332058e+03   1.08501038e+02   1.16410485e+03\n",
      "  -1.78054916e+03   2.41369440e+03  -5.58836034e+03   2.75541245e+03\n",
      "  -2.05520251e+03  -2.54411255e+03  -2.35762977e+03  -2.66057517e+03\n",
      "  -1.96989870e+03   2.94334798e+03   5.06122580e+02   8.21655662e+03\n",
      "   0.00000000e+00  -1.41413028e+04   1.12123976e+04   0.00000000e+00\n",
      "   0.00000000e+00  -6.59113100e+03   2.93919602e+02   5.28430646e+04\n",
      "   9.00584607e+02  -4.66690439e+03  -9.91854478e+03   7.72018654e+03\n",
      "   0.00000000e+00   2.49229489e+03  -1.76273601e+02   6.36261749e+03\n",
      "  -7.53082181e+01  -1.46037544e+03   7.39936369e+03   2.95654041e+03\n",
      "   7.85942535e+02  -2.99862865e+03  -2.77118337e+03   6.11799554e+02\n",
      "   1.60921919e+03  -2.53960685e+03  -1.92302133e+03   0.00000000e+00\n",
      "  -3.69181957e+01  -1.81376777e+02  -3.62499221e+03  -2.38945968e+02\n",
      "  -8.96476527e+02  -3.16333884e+03  -6.26571647e+03   2.74919724e+03\n",
      "   8.95470733e+02   1.15492798e+03   1.21918706e+03  -6.47981097e+03\n",
      "   1.26841487e+03  -1.97763160e+03   5.11508660e+03   2.41737631e+04\n",
      "   8.02057939e+02   8.95214995e+02  -4.33353055e+03   9.24288071e+03\n",
      "  -1.83595293e+03   1.36303638e+02  -9.12134797e+03   1.68576903e+02\n",
      "  -2.35489655e+03  -1.28322112e+03   2.19106984e+03  -2.63745568e+03\n",
      "   8.42706066e+03  -9.41527303e+02   1.63739354e+04  -2.68361842e+03\n",
      "  -1.31195184e+03  -3.19572648e+03  -3.00443617e+03   9.81020796e+02\n",
      "   1.60769114e+03   1.32476692e+03  -1.67600063e+03   1.54471057e+04\n",
      "   7.27903034e+02  -3.97029338e+03  -1.36589968e+03  -3.67933574e+02\n",
      "   4.62289222e+03  -3.89144643e+03  -1.10640302e+03  -1.79478706e+03\n",
      "   8.08176091e+03  -2.16468805e+03   6.73609604e+03  -1.53576110e+03\n",
      "   2.29122015e+02   8.24275525e+01   0.00000000e+00   9.29121158e+02\n",
      "  -1.43594948e+03   3.22409276e+02  -5.75066587e+03   3.04644240e+03\n",
      "   2.69167619e+03  -6.88520561e+02  -1.84270613e+03   1.99336210e+03\n",
      "  -1.87113574e+03  -2.35879036e+03   2.35879036e+03  -6.28869815e+02\n",
      "   1.74056211e+03  -2.96499059e+02   2.50796501e+03  -1.59450623e+02\n",
      "   1.85490851e+04  -1.94257352e+03  -3.07596439e+02  -3.93139000e+03\n",
      "  -9.61972011e+03  -1.67702435e+04  -1.00395676e+03  -1.73040084e+03\n",
      "  -4.88659399e+02  -2.77006250e+04   3.78468750e+03   1.76929039e+04\n",
      "  -4.29529136e+03   2.35178180e+03  -4.99895877e+03   1.26687955e+03\n",
      "  -1.27540278e+04   2.68333248e+02  -2.55887900e+03   5.20541771e+03\n",
      "  -4.09396289e+03  -1.44215696e+03   1.94712512e+03  -5.70769338e+02\n",
      "  -1.18549960e+03   2.36695821e+04  -3.21638271e+03   2.79081029e+03\n",
      "  -2.44211199e+02  -5.38266293e+02  -1.19816114e+04  -1.78056895e+03\n",
      "  -6.18002286e+03  -2.34617951e+03   9.40849840e+02  -1.58403107e+03\n",
      "  -2.49991055e+03   1.92148014e+03  -1.42539857e+04   7.44314655e+03\n",
      "   0.00000000e+00  -3.59238003e+02  -1.71049219e+02  -1.76695559e+03\n",
      "  -4.30629494e+03  -2.60094580e+03  -4.60591246e+03  -1.71571468e+03\n",
      "   0.00000000e+00  -4.27929344e+03   1.78059436e+04   6.70734882e+03\n",
      "  -3.14655023e+03  -1.10667532e+04  -1.84364726e+03   6.79503219e+03\n",
      "   1.32784861e+04  -3.43741073e+03  -5.82159969e+03   5.35814472e+02\n",
      "   2.81220858e+03  -7.64709992e+03  -1.49329702e+02   6.94754765e+03\n",
      "  -1.95689686e+00  -3.19228424e+01   4.25773337e-01   4.25133717e+03\n",
      "   2.50357625e+03   4.64783605e+01   1.17847095e+02   1.10034846e+01\n",
      "   1.87352593e+00   1.21774174e+00   1.30983975e+01   1.52014627e+01\n",
      "   9.90672340e+00   2.94751177e+00   1.53066698e+01   2.73514853e+03\n",
      "   1.52111120e+03   5.56622439e+03   4.37453782e+03  -1.97741509e+02\n",
      "  -6.45768513e+03   2.62463428e+03   4.97990698e+03   4.48405188e+03\n",
      "   1.84339102e+01   1.15876719e+01   1.79354995e+01  -3.67502205e+00\n",
      "   1.36974357e+01   3.07263587e+01  -3.63222030e+00  -1.75251826e-01\n",
      "  -3.03740026e+02  -2.24092545e+02]\n",
      "Intercept:  143909.21792\n",
      "Root Mean squared error: 39693.70\n",
      "Root Mean squared error with log: 0.15\n",
      "Variance score: 0.92\n"
     ]
    }
   ],
   "source": [
    "x_train, x_validation, y_train, y_validation = train_test_split(X, y, test_size = 0.33, random_state = 37)\n",
    "\n",
    "regr = linear_model.Ridge(alpha = 0.705, normalize = True)\n",
    "regr.fit(x_train, y_train)\n",
    "print('Coefficients: ', regr.coef_)\n",
    "print('Intercept: ', regr.intercept_)\n",
    "print(\"Root Mean squared error: %.2f\" % np.sqrt(mean_squared_error(y_validation, (regr.predict(x_validation)))))\n",
    "print(\"Root Mean squared error with log: %.2f\" % np.sqrt(np.mean((np.log(regr.predict(x_validation)) - np.log(y_validation)) ** 2)))\n",
    "print('Variance score: %.2f' % regr.score(x_train, y_train))"
   ]
  },
  {
   "cell_type": "code",
   "execution_count": null,
   "metadata": {
    "collapsed": true
   },
   "outputs": [],
   "source": []
  }
 ],
 "metadata": {
  "kernelspec": {
   "display_name": "Python 3",
   "language": "python",
   "name": "python3"
  },
  "language_info": {
   "codemirror_mode": {
    "name": "ipython",
    "version": 3
   },
   "file_extension": ".py",
   "mimetype": "text/x-python",
   "name": "python",
   "nbconvert_exporter": "python",
   "pygments_lexer": "ipython3",
   "version": "3.6.1"
  }
 },
 "nbformat": 4,
 "nbformat_minor": 2
}
