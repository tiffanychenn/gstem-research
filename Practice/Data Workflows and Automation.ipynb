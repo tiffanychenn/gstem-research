{
 "cells": [
  {
   "cell_type": "code",
   "execution_count": 77,
   "metadata": {
    "collapsed": true
   },
   "outputs": [],
   "source": [
    "import os\n",
    "import pandas as pd\n",
    "import matplotlib\n",
    "import numpy as np\n",
    "%matplotlib inline"
   ]
  },
  {
   "cell_type": "code",
   "execution_count": 6,
   "metadata": {},
   "outputs": [],
   "source": [
    "surveys = pd.read_csv(\"surveys.csv\")"
   ]
  },
  {
   "cell_type": "code",
   "execution_count": 4,
   "metadata": {},
   "outputs": [
    {
     "name": "stdout",
     "output_type": "stream",
     "text": [
      "yearly_files/surveys1977.csv\n",
      "yearly_files/surveys1978.csv\n",
      "yearly_files/surveys1979.csv\n",
      "yearly_files/surveys1980.csv\n",
      "yearly_files/surveys1981.csv\n",
      "yearly_files/surveys1982.csv\n",
      "yearly_files/surveys1983.csv\n",
      "yearly_files/surveys1984.csv\n",
      "yearly_files/surveys1985.csv\n",
      "yearly_files/surveys1986.csv\n",
      "yearly_files/surveys1987.csv\n",
      "yearly_files/surveys1988.csv\n",
      "yearly_files/surveys1989.csv\n",
      "yearly_files/surveys1990.csv\n",
      "yearly_files/surveys1991.csv\n",
      "yearly_files/surveys1992.csv\n",
      "yearly_files/surveys1993.csv\n",
      "yearly_files/surveys1994.csv\n",
      "yearly_files/surveys1995.csv\n",
      "yearly_files/surveys1996.csv\n",
      "yearly_files/surveys1997.csv\n",
      "yearly_files/surveys1998.csv\n",
      "yearly_files/surveys1999.csv\n",
      "yearly_files/surveys2000.csv\n",
      "yearly_files/surveys2001.csv\n",
      "yearly_files/surveys2002.csv\n"
     ]
    }
   ],
   "source": [
    "for i in range(1977, 2003):\n",
    "    file = \"yearly_files/surveys\" + str(i) + \".csv\"\n",
    "    print(file)"
   ]
  },
  {
   "cell_type": "code",
   "execution_count": 88,
   "metadata": {},
   "outputs": [],
   "source": [
    "def oneYear(thisyear, data, path, root):\n",
    "    if path in os.listdir(\".\"):\n",
    "        print('Processed directory exists')\n",
    "    else:\n",
    "        os.mkdir(path)\n",
    "        print('Processed directory created')\n",
    "    surveysForYear = data[data.year == thisyear]\n",
    "    file = path + \"/\" + root + str(thisyear) + \".csv\"\n",
    "    surveysForYear.to_csv(file)"
   ]
  },
  {
   "cell_type": "code",
   "execution_count": 89,
   "metadata": {},
   "outputs": [],
   "source": [
    "def makeForYear(data, start = None, end = None):\n",
    "    if not start:\n",
    "        start = min(data.year)\n",
    "    if not end:\n",
    "        end = max(data.year)\n",
    "    years = data.year.unique().tolist()\n",
    "    for j in range(start, end + 1):\n",
    "        if not (j in years):\n",
    "            return \"A year in the range you specified is not in the data.\"\n",
    "    for i in range(start, end + 1):\n",
    "        oneYear(i, data, \"yearly_files\", \"surveys\")\n",
    "    return os.listdir(\"yearly_files\")"
   ]
  },
  {
   "cell_type": "code",
   "execution_count": 90,
   "metadata": {},
   "outputs": [
    {
     "name": "stdout",
     "output_type": "stream",
     "text": [
      "Processed directory exists\n",
      "Processed directory exists\n",
      "Processed directory exists\n",
      "Processed directory exists\n",
      "Processed directory exists\n",
      "Processed directory exists\n",
      "Processed directory exists\n",
      "Processed directory exists\n",
      "Processed directory exists\n",
      "Processed directory exists\n",
      "Processed directory exists\n",
      "Processed directory exists\n",
      "Processed directory exists\n"
     ]
    },
    {
     "data": {
      "text/plain": [
       "['surveys1977.csv',\n",
       " 'surveys1978.csv',\n",
       " 'surveys1979.csv',\n",
       " 'surveys1980.csv',\n",
       " 'surveys1981.csv',\n",
       " 'surveys1982.csv',\n",
       " 'surveys1983.csv',\n",
       " 'surveys1984.csv',\n",
       " 'surveys1985.csv',\n",
       " 'surveys1986.csv',\n",
       " 'surveys1987.csv',\n",
       " 'surveys1988.csv',\n",
       " 'surveys1989.csv',\n",
       " 'surveys1990.csv',\n",
       " 'surveys1991.csv',\n",
       " 'surveys1992.csv',\n",
       " 'surveys1993.csv',\n",
       " 'surveys1994.csv',\n",
       " 'surveys1995.csv',\n",
       " 'surveys1996.csv',\n",
       " 'surveys1997.csv',\n",
       " 'surveys1998.csv',\n",
       " 'surveys1999.csv',\n",
       " 'surveys2000.csv',\n",
       " 'surveys2001.csv',\n",
       " 'surveys2002.csv']"
      ]
     },
     "execution_count": 90,
     "metadata": {},
     "output_type": "execute_result"
    }
   ],
   "source": [
    "makeForYear(surveys, start = 1990)"
   ]
  },
  {
   "cell_type": "code",
   "execution_count": 54,
   "metadata": {},
   "outputs": [
    {
     "data": {
      "text/plain": [
       "NoneType"
      ]
     },
     "execution_count": 54,
     "metadata": {},
     "output_type": "execute_result"
    }
   ],
   "source": []
  },
  {
   "cell_type": "code",
   "execution_count": null,
   "metadata": {
    "collapsed": true
   },
   "outputs": [],
   "source": []
  }
 ],
 "metadata": {
  "kernelspec": {
   "display_name": "Python 3",
   "language": "python",
   "name": "python3"
  },
  "language_info": {
   "codemirror_mode": {
    "name": "ipython",
    "version": 3
   },
   "file_extension": ".py",
   "mimetype": "text/x-python",
   "name": "python",
   "nbconvert_exporter": "python",
   "pygments_lexer": "ipython3",
   "version": "3.6.1"
  }
 },
 "nbformat": 4,
 "nbformat_minor": 2
}
